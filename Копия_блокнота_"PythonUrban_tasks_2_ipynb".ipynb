{
  "nbformat": 4,
  "nbformat_minor": 0,
  "metadata": {
    "colab": {
      "provenance": [],
      "collapsed_sections": [],
      "include_colab_link": true
    },
    "kernelspec": {
      "name": "python3",
      "display_name": "Python 3"
    },
    "language_info": {
      "name": "python"
    }
  },
  "cells": [
    {
      "cell_type": "markdown",
      "metadata": {
        "id": "view-in-github",
        "colab_type": "text"
      },
      "source": [
        "<a href=\"https://colab.research.google.com/github/Yulia0Ivanova/PythonUrbanClassSample/blob/main/%D0%9A%D0%BE%D0%BF%D0%B8%D1%8F_%D0%B1%D0%BB%D0%BE%D0%BA%D0%BD%D0%BE%D1%82%D0%B0_%22PythonUrban_tasks_2_ipynb%22.ipynb\" target=\"_parent\"><img src=\"https://colab.research.google.com/assets/colab-badge.svg\" alt=\"Open In Colab\"/></a>"
      ]
    },
    {
      "cell_type": "markdown",
      "source": [
        "##### ***Работа с GitHub.***"
      ],
      "metadata": {
        "id": "v4Rj2XV4vrEE"
      }
    },
    {
      "cell_type": "code",
      "source": [
        "class Road:\n",
        "    def __init__(self, name, length: int, defect: int):\n",
        "        self.name = name\n",
        "        self.length = length\n",
        "        self.defect = defect\n",
        "        \n",
        "        self.descript = self.description()\n",
        "\n",
        "    def description(self):\n",
        "      \"\"\"Возвращаем описание дороги\"\"\"\n",
        "      descript = self.name + \", \" + str(self.length) + \" км, \" + str(self.defect) + \" дефекта\"\n",
        "      return descript.capitalize()\n",
        "    \n",
        "    def ilevel(self):\n",
        "      \"\"\" Определяем категорию дороги;\n",
        "      протяженность составляет свыше 1500 км для нац. уровня\"\"\"\n",
        "      level = [\"Дорога национального значения\", \"Дорога регионального значения\"]\n",
        "      if self.length >= 1500:\n",
        "          print(self.description(), level[0], sep = \"\\n\")\n",
        "      else:\n",
        "          print(self.description(), level[1], sep = \"\\n\")\n",
        "    \n",
        "road_1 = Road (\"На СПб\", 1345, 223)\n",
        "road_2 = Road (\"На Москву\", 4600, 3)\n",
        "road_3 = Road (\"На Петрозаводск\", 988, 17)\n",
        "\n",
        "road_1.description()\n",
        "road_1.ilevel()\n"
      ],
      "metadata": {
        "colab": {
          "base_uri": "https://localhost:8080/"
        },
        "id": "aZoTX21rwOtR",
        "outputId": "258e6472-ef0d-43c0-da6e-9b87169d63b7"
      },
      "execution_count": 2,
      "outputs": [
        {
          "output_type": "stream",
          "name": "stdout",
          "text": [
            "На спб, 1345 км, 223 дефекта\n",
            "Дорога регионального значения\n"
          ]
        }
      ]
    },
    {
      "cell_type": "code",
      "source": [
        "class Plants:\n",
        "    def __init__(self, name, number, area):\n",
        "        self.name = name\n",
        "        self.number = number\n",
        "        self.area = area\n",
        "\n",
        "        self.karma = 0\n",
        "        \n",
        "        self.decript = self.description() \n",
        "\n",
        "        self.density = self.get_trees_density()\n",
        "        self.density = round(self.density, 3)\n",
        "\n",
        "    def description(self):\n",
        "      \"\"\"Возвращаем описание растений\"\"\"\n",
        "      descript = self.name + \", \" + str(self.number) + \" штук, \" + str(self.area) + \" м2\"\n",
        "      return descript.capitalize()\n",
        "\n",
        "    def get_trees_density(self):\n",
        "      \"\"\" Считаем плотность насаждений на м2\"\"\"\n",
        "      density = self.number / self.area\n",
        "      return density\n",
        "\n",
        "    def get_karma(self):\n",
        "      \"\"\"\" Вводим подсчет очков в карму за посадку деревьев\"\"\"\n",
        "      if self.karma > 0:\n",
        "        print(\"Молодец, очков в карме: \" + str(self.karma))\n",
        "\n",
        "    def show_karma(self):\n",
        "      \"\"\" Ставим условие для подсчетов очков в карме за тип растения и плотность посадки\"\"\"\n",
        "      if self.name == \"Мхи\" and self.density > 2:\n",
        "        self.karma += 1\n",
        "      elif self.name == \"Кусты\" and self.density > 1:\n",
        "       self.karma += 5\n",
        "      elif self.name == \"Деревья\" and round(self.density, 3) > 0.1:\n",
        "       self.karma += 10\n",
        "      else:\n",
        "        print(\"Мало посадил, очков в карму не заслужил\")\n",
        "\n",
        "tree_1 = Plants (\"Деревья\", 9, 40)\n",
        "tree_2 = Plants (\"Кусты\", 46, 60)\n",
        "tree_3 = Plants (\"Мхи\", 59, 13)\n",
        "\n",
        "print(tree_2.description())\n",
        "print(\"Плотноть зеленых насаждений:\", tree_2.get_trees_density(), \"растений на м2\")\n",
        "\n",
        "tree_3.show_karma()\n",
        "tree_3.get_karma()"
      ],
      "metadata": {
        "colab": {
          "base_uri": "https://localhost:8080/"
        },
        "id": "hwIKI5SXwH6W",
        "outputId": "132a7e84-d040-4da6-acda-32cbc7fc552f"
      },
      "execution_count": 11,
      "outputs": [
        {
          "output_type": "stream",
          "name": "stdout",
          "text": [
            "Кусты, 46 штук, 60 м2\n",
            "Плотноть зеленых насаждений: 0.7666666666666667 растений на м2\n",
            "Молодец, очков в карме: 1\n"
          ]
        }
      ]
    },
    {
      "cell_type": "code",
      "source": [
        "class Subjects:\n",
        "      \n",
        "      instances = []\n",
        "      objInstancesCount = 0\n",
        "\n",
        "      def __init__(self, theme: int, exam, mark):\n",
        "        self.theme = theme\n",
        "        self.exam = exam\n",
        "        self.mark = mark\n",
        "        \n",
        "        self.information = self.info()\n",
        "        self.n = self.get_mark()\n",
        "        self.с = self.result()\n",
        "\n",
        "        self.__class__.instances.append(self)\n",
        "\n",
        "        Subjects.objInstancesCount = Subjects.objInstancesCount + 1\n",
        "\n",
        "      def info(self):\n",
        "        \"\"\" Возвращаем описание предмета, экзамена и оценки \"\"\"\n",
        "        information = self.theme + \", \" + self.exam + \", \" + \"оценка \" + str(self.mark)\n",
        "        return information\n",
        "\n",
        "      def get_mark(self):\n",
        "        \"\"\" Определяем условие самооценивания результатов \"\"\"\n",
        "        if self.mark >= 4:\n",
        "            n = \"Я - гений!\"\n",
        "        else:\n",
        "          if  self.mark == 3:\n",
        "            n = \"Катастрофа!\"\n",
        "          else:\n",
        "            n = \"Полная катастрофа!!!\"\n",
        "        return n\n",
        "\n",
        "      def result(self):\n",
        "        \"\"\" Определяем условие дальнейших действий при полученных результатах\"\"\"\n",
        "        if self.mark < 3:\n",
        "          c = \"Иди учи!\"\n",
        "        else:\n",
        "          c = \"Можно отдыхать.\"\n",
        "        return c      \n",
        "\n",
        "subject_1 = Subjects (\"Урбанистика\", \"Тест\", 4)\n",
        "subject_2 = Subjects (\"ГИС\", \"Проект\", 5)\n",
        "subject_3 = Subjects (\"Программирование на Питон\", \"Задачки\", 2)\n",
        "\n",
        "print(\"Cдано \" + str(Subjects.objInstancesCount) + \" предмета\")\n",
        "print(f\"\\nПредметы:\\n{subject_1.info()}\\n{subject_1.get_mark()}\\n{subject_1.result()}\\n\")\n",
        "\n",
        "print(f\"{subject_2.info()}\\n{subject_2.get_mark()}\\n{subject_2.result()}\\n\")\n",
        "\n",
        "print(f\"{subject_3.info()}\\n{subject_3.get_mark()}\\n{subject_3.result()}\\n\")"
      ],
      "metadata": {
        "colab": {
          "base_uri": "https://localhost:8080/"
        },
        "id": "Ppkf6T3LM7Ff",
        "outputId": "de651c5d-3cec-4bbf-c2a4-e0bcd5708097"
      },
      "execution_count": 146,
      "outputs": [
        {
          "output_type": "stream",
          "name": "stdout",
          "text": [
            "Cдано 3 предмета\n",
            "\n",
            "Предметы:\n",
            "Урбанистика, Тест, оценка 4\n",
            "Я - гений!\n",
            "Можно отдыхать.\n",
            "\n",
            "ГИС, Проект, оценка 5\n",
            "Я - гений!\n",
            "Можно отдыхать.\n",
            "\n",
            "Программирование на Питон, Задачки, оценка 2\n",
            "Полная катастрофа!!!\n",
            "Иди учи!\n",
            "\n"
          ]
        }
      ]
    },
    {
      "cell_type": "markdown",
      "source": [],
      "metadata": {
        "id": "srjREZmCobOP"
      }
    }
  ]
}